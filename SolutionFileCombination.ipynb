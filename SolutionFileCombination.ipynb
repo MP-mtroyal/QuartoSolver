{
 "cells": [
  {
   "cell_type": "markdown",
   "metadata": {},
   "source": [
    "### Combines Multiple solution files into a single solution file"
   ]
  },
  {
   "cell_type": "code",
   "execution_count": null,
   "metadata": {},
   "outputs": [],
   "source": [
    "filesToLoad = [\n",
    "    \"S:/QuartoStates/depth6_1mil.txt\",\n",
    "    \"S:/QuartoStates/depth6_2mil.txt\",\n",
    "    \"S:/QuartoStates/depth6_3mil.txt\",\n",
    "    \"S:/QuartoStates/depth6_4mil_3.txt\",\n",
    "    \"S:/QuartoStates/depth6_6mil_mediums.txt\",\n",
    "]\n",
    "# filesToLoad = [\n",
    "#     \"S:/QuartoStates/depth6_6mil_mediums.txt\"\n",
    "# ]\n",
    "dstPath = \"S:/QuartoStates/depth6_6mill_filtered.txt\""
   ]
  },
  {
   "cell_type": "code",
   "execution_count": 5,
   "metadata": {},
   "outputs": [
    {
     "name": "stdout",
     "output_type": "stream",
     "text": [
      "Found 316555 solved games and 163894 unsolved games out of a total 480449 games.\n",
      "A total of 65.887% were solved.\n",
      "There were 0 duplicates and 1 invalid games.\n"
     ]
    }
   ],
   "source": [
    "solutionsMemo = {}\n",
    "solvedCount, unSolvedCount, duplicateCount, invalid = 0, 0, 0, 0\n",
    "for filePath in filesToLoad:\n",
    "    with open(filePath) as f:\n",
    "        fileString = f.read()\n",
    "        hashSolPairs = fileString.split('\\n')\n",
    "        for line in hashSolPairs:\n",
    "            pair = line.split(',')\n",
    "            if len(pair) == 2:\n",
    "                if pair[0] in solutionsMemo:\n",
    "                    duplicateCount += 1\n",
    "                    if '-' not in pair[1]:\n",
    "                        solutionsMemo[pair[0]] = pair[1]\n",
    "                else:\n",
    "                    if '-' in pair[1]:\n",
    "                        unSolvedCount += 1\n",
    "                    else:\n",
    "                        solvedCount += 1\n",
    "                    solutionsMemo[pair[0]] = pair[1]\n",
    "            else:\n",
    "                invalid += 1\n",
    "\n",
    "print(f'Found {solvedCount} solved games and {unSolvedCount} unsolved games out of a total {len(solutionsMemo.keys())} games.')\n",
    "print(f'A total of {(solvedCount / len(solutionsMemo.keys()) * 100) :0.3f}% were solved.')\n",
    "print(f'There were {duplicateCount} duplicates and {invalid} invalid games.')"
   ]
  },
  {
   "cell_type": "code",
   "execution_count": 3,
   "metadata": {},
   "outputs": [],
   "source": [
    "# Combine to new file, with solutions first, and unsolved last\n",
    "with open(dstPath, 'w') as f:\n",
    "    for key in solutionsMemo.keys():\n",
    "        if '-' not in solutionsMemo[key]:\n",
    "            f.write(key + \",\" + solutionsMemo[key] + '\\n')\n",
    "    for key in solutionsMemo.keys():\n",
    "        if '-' in solutionsMemo[key]:\n",
    "            f.write(key + \",\" + '-' + '\\n')"
   ]
  },
  {
   "cell_type": "code",
   "execution_count": null,
   "metadata": {},
   "outputs": [],
   "source": []
  }
 ],
 "metadata": {
  "kernelspec": {
   "display_name": "base",
   "language": "python",
   "name": "python3"
  },
  "language_info": {
   "codemirror_mode": {
    "name": "ipython",
    "version": 3
   },
   "file_extension": ".py",
   "mimetype": "text/x-python",
   "name": "python",
   "nbconvert_exporter": "python",
   "pygments_lexer": "ipython3",
   "version": "3.12.7"
  }
 },
 "nbformat": 4,
 "nbformat_minor": 2
}
