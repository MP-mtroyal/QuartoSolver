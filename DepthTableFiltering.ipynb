{
 "cells": [
  {
   "cell_type": "code",
   "execution_count": null,
   "metadata": {},
   "outputs": [],
   "source": [
    "from QuartoGame import QuartoGame"
   ]
  },
  {
   "cell_type": "code",
   "execution_count": null,
   "metadata": {},
   "outputs": [
    {
     "name": "stdout",
     "output_type": "stream",
     "text": [
      "100.00000\n",
      "Done\n",
      "33652312\n",
      "97.580 percent kept\n"
     ]
    }
   ],
   "source": [
    "hashSolPairs = None\n",
    "with open(\"S:/QuartoStates/depth6.txt\") as f:\n",
    "    fileString = f.read()\n",
    "    hashSolPairs = fileString.split(\"\\n\")\n",
    "\n",
    "successCounter = 0\n",
    "totalPairs = len(hashSolPairs)\n",
    "game = QuartoGame()\n",
    "\n",
    "with open(\"S:/QuartoStates/depth6filtered.txt\", 'w') as f:\n",
    "\n",
    "    for i in range(len(hashSolPairs)):\n",
    "        pair = hashSolPairs[i].split(',')\n",
    "        if len(pair) == 2:\n",
    "            game.loadFromHash(int(pair[0]))\n",
    "            if not game.checkWinFull():\n",
    "                successCounter += 1\n",
    "                f.write(pair[0] + \",\" + pair[1] + \"\\n\")\n",
    "        \n",
    "        if i % 10000:\n",
    "            print(f'{(i / totalPairs) * 100 :0.5f}', end='\\r')\n",
    "\n",
    "print()\n",
    "print(\"Done\")\n",
    "print(successCounter)\n",
    "print(f'{(successCounter / totalPairs) * 100 :0.3f} percent kept')"
   ]
  }
 ],
 "metadata": {
  "kernelspec": {
   "display_name": "base",
   "language": "python",
   "name": "python3"
  },
  "language_info": {
   "codemirror_mode": {
    "name": "ipython",
    "version": 3
   },
   "file_extension": ".py",
   "mimetype": "text/x-python",
   "name": "python",
   "nbconvert_exporter": "python",
   "pygments_lexer": "ipython3",
   "version": "3.12.7"
  }
 },
 "nbformat": 4,
 "nbformat_minor": 2
}
