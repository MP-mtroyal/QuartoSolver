{
 "cells": [
  {
   "cell_type": "code",
   "execution_count": 1,
   "metadata": {},
   "outputs": [],
   "source": [
    "from QuartoGame import QuartoGame\n",
    "from QuartoDataTypes import IntVector2"
   ]
  },
  {
   "cell_type": "markdown",
   "metadata": {},
   "source": [
    "Filter and save only non-winning state games"
   ]
  },
  {
   "cell_type": "code",
   "execution_count": null,
   "metadata": {},
   "outputs": [
    {
     "name": "stdout",
     "output_type": "stream",
     "text": [
      "100.00000\n",
      "Done\n",
      "33652312\n",
      "97.580 percent kept\n"
     ]
    }
   ],
   "source": [
    "hashSolPairs = None\n",
    "with open(\"S:/QuartoStates/depth6.txt\") as f:\n",
    "    fileString = f.read()\n",
    "    hashSolPairs = fileString.split(\"\\n\")\n",
    "\n",
    "successCounter = 0\n",
    "totalPairs = len(hashSolPairs)\n",
    "game = QuartoGame()\n",
    "\n",
    "with open(\"S:/QuartoStates/depth6filtered.txt\", 'w') as f:\n",
    "\n",
    "    for i in range(len(hashSolPairs)):\n",
    "        pair = hashSolPairs[i].split(',')\n",
    "        if len(pair) == 2:\n",
    "            game.loadFromHash(int(pair[0]))\n",
    "            if not game.checkWinFull():\n",
    "                successCounter += 1\n",
    "                f.write(pair[0] + \",\" + pair[1] + \"\\n\")\n",
    "        \n",
    "        if i % 10000:\n",
    "            print(f'{(i / totalPairs) * 100 :0.5f}', end='\\r')\n",
    "\n",
    "print()\n",
    "print(\"Done\")\n",
    "print(successCounter)\n",
    "print(f'{(successCounter / totalPairs) * 100 :0.3f} percent kept')"
   ]
  },
  {
   "cell_type": "markdown",
   "metadata": {},
   "source": [
    "Count games with duplicate pieces (invalid)"
   ]
  },
  {
   "cell_type": "code",
   "execution_count": 4,
   "metadata": {},
   "outputs": [
    {
     "name": "stdout",
     "output_type": "stream",
     "text": [
      "99.99987 | Found: 0 out of 791721\n",
      "Done\n",
      "0\n",
      "0.000 percent has duplicates\n"
     ]
    }
   ],
   "source": [
    "def hasDup(game: QuartoGame):\n",
    "    counts = [0] * 16\n",
    "    for y in range(game.board.shape[0]):\n",
    "        for x in range(game.board.shape[1]):\n",
    "            val = game.board[IntVector2(x,y)]\n",
    "            if val >= 0:\n",
    "                counts[int(val)] += 1\n",
    "                if counts[int(val)] > 1:\n",
    "                    #game.printGame()\n",
    "                    return True\n",
    "    return False\n",
    "\n",
    "\n",
    "hashSolPairs = None\n",
    "with open(\"X:/MtRoyal/Comp4299/QuartoSolver/depthTables/depth5correct.txt\") as f:\n",
    "    fileString = f.read()\n",
    "    hashSolPairs = fileString.split(\"\\n\")\n",
    "\n",
    "dupCounts = 0\n",
    "totalPairs = len(hashSolPairs)\n",
    "game = QuartoGame()\n",
    "\n",
    "\n",
    "for i in range(len(hashSolPairs)):\n",
    "    pair = hashSolPairs[i].split(',')\n",
    "    if len(pair) == 2:\n",
    "        game.loadFromHash(int(pair[0]))\n",
    "        if hasDup(game):\n",
    "            dupCounts += 1\n",
    "    # if dupCounts > 5:\n",
    "    #     break\n",
    "    if i % 10000:\n",
    "        print(f'{(i / totalPairs) * 100 :0.5f} | Found: {dupCounts} out of {i}', end='\\r')\n",
    "\n",
    "print()\n",
    "print(\"Done\")\n",
    "print(dupCounts)\n",
    "print(f'{(dupCounts / totalPairs) * 100 :0.3f} percent has duplicates')"
   ]
  },
  {
   "cell_type": "code",
   "execution_count": 5,
   "metadata": {},
   "outputs": [
    {
     "name": "stdout",
     "output_type": "stream",
     "text": [
      "Starting\n",
      "Created Loader\n",
      "Loaded Games\n",
      "Created Solver\n",
      "Solving\n",
      "HDAL2\n",
      "ADBLHACEIMDK2\n",
      "ADBLHACMIEDK2\n",
      "ADBL2\n",
      "HDAL2\n",
      "BDAL2\n",
      "BDAL2\n",
      "HLAABEDF2\n",
      "BDAL2\n",
      "ADBLIACB2\n",
      "Solved\n"
     ]
    }
   ],
   "source": [
    "from BatchMinimax import BatchMinimaxSolver\n",
    "from depthSaver import DepthSaver\n",
    "\n",
    "print(\"Starting\")\n",
    "dataLoader = DepthSaver()\n",
    "print(\"Created Loader\")\n",
    "dataLoader.loadGames(\"depth6mini.txt\", \"S:/QuartoStates/\")\n",
    "print(\"Loaded Games\")\n",
    "solver = BatchMinimaxSolver()\n",
    "print(\"Created Solver\")\n",
    "\n",
    "games = [dataLoader.getGame(i) for i in range(10)]\n",
    "print(\"Solving\")\n",
    "solutions = solver.solveBatch(games)\n",
    "print(\"Solved\")\n"
   ]
  },
  {
   "cell_type": "code",
   "execution_count": null,
   "metadata": {},
   "outputs": [],
   "source": []
  }
 ],
 "metadata": {
  "kernelspec": {
   "display_name": "base",
   "language": "python",
   "name": "python3"
  },
  "language_info": {
   "codemirror_mode": {
    "name": "ipython",
    "version": 3
   },
   "file_extension": ".py",
   "mimetype": "text/x-python",
   "name": "python",
   "nbconvert_exporter": "python",
   "pygments_lexer": "ipython3",
   "version": "3.12.7"
  }
 },
 "nbformat": 4,
 "nbformat_minor": 2
}
